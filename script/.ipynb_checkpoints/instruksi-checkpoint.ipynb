{
 "cells": [
  {
   "cell_type": "markdown",
   "metadata": {},
   "source": [
    "#### Identitas:"
   ]
  },
  {
   "cell_type": "code",
   "execution_count": null,
   "metadata": {},
   "outputs": [],
   "source": [
    "print('NAMA:')\n",
    "print('<tuliskan nama lengkap Anda>')\n",
    "print('')\n",
    "print('NOMOR PESERTA:')\n",
    "print('<tuliskan nomor peserta Anda>')"
   ]
  },
  {
   "cell_type": "markdown",
   "metadata": {},
   "source": [
    "#### Lakukan 11 instruksi di bawah ini dengan menggunakan dataset berikut:\n",
    "Catatan: Anda bebas menambah/mengedit kode dalam melakukan instruksi."
   ]
  },
  {
   "cell_type": "code",
   "execution_count": null,
   "metadata": {},
   "outputs": [],
   "source": [
    "#Importing required modules\n",
    "import pandas as pd\n",
    "import numpy as np\n",
    "import matplotlib.pyplot as plt\n",
    "\n",
    "#Reading datasets\n",
    "#main dataset\n",
    "df = pd.read_csv('../data/covid_19_data.csv',sep=';')\n",
    "#region and climate dataset\n",
    "df_cat = pd.read_csv('../data/covid_19_data_cat.csv')\n",
    "\n",
    "df"
   ]
  },
  {
   "cell_type": "markdown",
   "metadata": {},
   "source": [
    "#### 1. Dataframe 'df' terdiri dari (a) ... columns dan (b) ... rows. Dataframe 'df' mengandung data dari (c) ... 'country' yang berbeda. Dataframe 'df' mengandung data hasil observasi selama (d) .... hari terhitung sejak tanggal (e) ... sampai tanggal (f) ..."
   ]
  },
  {
   "cell_type": "markdown",
   "metadata": {},
   "source": [
    "(a)\n",
    "<br>\n",
    "(b)\n",
    "<br>\n",
    "(c)\n",
    "<br>\n",
    "(d)\n",
    "<br>\n",
    "(e)\n",
    "<br>\n",
    "(f)"
   ]
  },
  {
   "cell_type": "markdown",
   "metadata": {},
   "source": [
    "#### 2. Ubah beberapa data pada kolom 'country' agar tidak ada nama berbeda untuk negara yang sama dengan aturan:\n",
    "'original data','replace with this data':\n",
    "<br>\n",
    "\"('St. Martin',)\",'St. Martin'\n",
    "<br>\n",
    "' Azerbaijan','Azerbaijan'\n",
    "<br>\n",
    "'Cabo Verde','Cape Verde'\n",
    "<br>\n",
    "'Congo (Brazzaville)','Congo'\n",
    "<br>\n",
    "'Congo (Kinshasa)','Congo'\n",
    "<br>\n",
    "'North Ireland','Ireland'\n",
    "<br>\n",
    "'North Macedonia','Macedonia'\n",
    "<br>\n",
    "'occupied Palestinian territory','Palestine'\n",
    "<br>\n",
    "'Holy See','Vatican'\n",
    "<br>\n",
    "'Republic of Ireland','Ireland'\n",
    "<br>\n",
    "'The Bahamas','Bahamas'\n",
    "<br>\n",
    "'The Gambia','Gambia'\n",
    "<br>\n",
    "'Bahamas, The','Bahamas'\n",
    "<br>\n",
    "'Gambia, The','Gambia'\n",
    "<br>\n",
    "'Vatican City','Vatican'\n",
    "<br>\n",
    "'East Timor','Timor-Leste'\n",
    "<br>\n",
    "'West Bank and Gaza','Palestine'\n",
    "<br>\n",
    "'MS Zaandam','Others'\n",
    "<br>\n",
    "'Diamond Princess','Others'"
   ]
  },
  {
   "cell_type": "code",
   "execution_count": null,
   "metadata": {},
   "outputs": [],
   "source": []
  },
  {
   "cell_type": "markdown",
   "metadata": {},
   "source": [
    "#### 3. a. Beberapa 'country' pada dataframe 'df' data hariannya dibagi menjadi beberapa 'province'. Akumulasikan data 'confirmed','deaths', dan 'recovered' provinsi-provinsi ini sehingga data harian tiap negara hanya diwakili oleh 1 row dengan membuat dataframe baru 'df_new'.\n",
    "#### b. Drop semua row pada 'df_new' yang data 'confirmed'-nya di bawah 100\n",
    "#### c. Tambahkan kolom 'region' dan 'climate' pada 'df_new' dan isi dengan region dan climate untuk tiap negara dengan mengacu pada 'df_cat'\n",
    "#### d. Buat line plot berdasarkan dataframe 'df_new' dengan data 'date' sebagai x dan data 'confirmed' sebagai y, di mana tiap garis menggambarkan data akumulatif 1 region. (style bebas)\n",
    "#### e. Buat line plot berdasarkan dataframe 'df_new' dengan data 'date' sebagai x dan data 'confirmed' sebagai y, di mana tiap garis menggambarkan data akumulatif 1 kelompok iklim. (style bebas)"
   ]
  },
  {
   "cell_type": "code",
   "execution_count": null,
   "metadata": {},
   "outputs": [],
   "source": [
    "#Jawaban 3.a.\n",
    "\n",
    "#Jawaban 3.b.\n",
    "\n",
    "#Jawaban 3.c.\n",
    "\n",
    "#Jawaban 3.d.\n",
    "\n",
    "#Jawaban 3.e.\n"
   ]
  },
  {
   "cell_type": "markdown",
   "metadata": {},
   "source": [
    "#### 4.a. Buat dataframe 'df_last' yang hanya mengandung data tanggal terakhir dari 'df_new', di mana tiap row menunjukkan data 'confirmed', 'deaths', 'recovered', 'region', dan 'climate' untuk 1 negara.\n",
    "#### b. Berdasarkan df_last, identifikasi 10 negara dengan data 'deaths' tertinggi. Buat barplotnya.\n",
    "#### c. Lakukan visual EDA pada dataframe 'df_last' untuk kolom 'confirmed', 'deaths', dan 'recovered' menggunakan scatter matrix (bedakan warna scatter plot berdasarkan region)\n",
    "#### d. Lakukan hal yang sama dengan membedakan warna scatter plot berdasarkan iklim"
   ]
  },
  {
   "cell_type": "code",
   "execution_count": null,
   "metadata": {},
   "outputs": [],
   "source": [
    "#Jawaban 4.a.\n",
    "\n",
    "#Jawaban 4.b.\n",
    "\n",
    "#Jawaban 4.c.\n",
    "\n",
    "#Jawaban 4.d.\n"
   ]
  },
  {
   "cell_type": "markdown",
   "metadata": {},
   "source": [
    "#### 5. a. mengacu pada hasil 4.c. dan d., data apa saja yang secara visual terlihat memiliki distribusi normal?\n",
    "#### b. konfirmasi jawaban 5. a. dengan menggunakan normality test dari modul scipy."
   ]
  },
  {
   "cell_type": "markdown",
   "metadata": {},
   "source": [
    "a."
   ]
  },
  {
   "cell_type": "code",
   "execution_count": null,
   "metadata": {},
   "outputs": [],
   "source": [
    "#Jawaban 5.b.\n"
   ]
  },
  {
   "cell_type": "markdown",
   "metadata": {},
   "source": [
    "#### 6. Dengan asumsi syarat melakukan independent t-test terpenuhi, lakukan independent t-test untuk menguji adanya hubungan antara kelompok iklim dan data 'confirmed' pada 'df_last'."
   ]
  },
  {
   "cell_type": "code",
   "execution_count": null,
   "metadata": {},
   "outputs": [],
   "source": []
  },
  {
   "cell_type": "markdown",
   "metadata": {},
   "source": [
    "#### 7. (Mengacu pada hasil nomor 6) Dengan menentukan nilai alpha=0.05, apakah hipotesis 0 bahwa 'tidak ada hubungan antara kelompok iklim dan data 'Confirmed' dapat ditolak? Apa alasannya?"
   ]
  },
  {
   "cell_type": "markdown",
   "metadata": {},
   "source": [
    "7. "
   ]
  },
  {
   "cell_type": "markdown",
   "metadata": {},
   "source": [
    "#### 8. Buatlah model classifier untuk memprediksi region untuk array 'X_new' berdasarkan data 'confirmed', 'deaths', dan 'recovered' yang ada pada 'df_last'. Tampilkan akurasi dari modelnya menggunakan training/test split."
   ]
  },
  {
   "cell_type": "code",
   "execution_count": null,
   "metadata": {},
   "outputs": [],
   "source": [
    "X_new=np.array([[1000,30,200],\n",
    "       [2000,40,400],\n",
    "       [50,1,2]])"
   ]
  },
  {
   "cell_type": "markdown",
   "metadata": {},
   "source": [
    "#### 9. Buatlah classifier model untuk memprediksi climate untuk array 'X_new' berdasarkan data 'confirmed', 'deaths', dan 'recovered' yang ada pada 'df_last'. Tampilkan nilai akurasi dari modelnya menggunakan training/test split."
   ]
  },
  {
   "cell_type": "code",
   "execution_count": null,
   "metadata": {},
   "outputs": [],
   "source": [
    "X_new=np.array([[1000,30,200],\n",
    "       [2000,40,400],\n",
    "       [50,1,2]])"
   ]
  },
  {
   "cell_type": "markdown",
   "metadata": {},
   "source": [
    "#### 10. Buatlah model regresi linear untuk sebaran jumlah 'deaths' di US dari tanggal 20 Maret 2020 - 10 Agustus 2020. Buatlah plot dari model regresi ini. Hitung nilai R^2 dan RMSE dari modelnya menggunakan training/test split."
   ]
  },
  {
   "cell_type": "code",
   "execution_count": null,
   "metadata": {},
   "outputs": [],
   "source": []
  },
  {
   "cell_type": "markdown",
   "metadata": {},
   "source": [
    "#### 11. Buatlah clustering model dengan jumlah cluster sebanyak 5 (cluster 0-4) untuk array 'Z'. Sebutkan prediksi nomor cluster berdasarkan data 'confirmed', 'deaths', dan 'recovered' pada 'df_last' untuk negara:\n",
    "<br>\n",
    "a. Indonesia\n",
    "<br>\n",
    "b. Singapore\n",
    "<br>\n",
    "c. US\n",
    "<br>\n",
    "d. Italy\n",
    "<br>\n",
    "e. Iran"
   ]
  },
  {
   "cell_type": "code",
   "execution_count": null,
   "metadata": {},
   "outputs": [],
   "source": [
    "Z=df_last.loc[:,['confirmed','recovered','deaths']].values"
   ]
  }
 ],
 "metadata": {
  "kernelspec": {
   "display_name": "Python 3",
   "language": "python",
   "name": "python3"
  },
  "language_info": {
   "codemirror_mode": {
    "name": "ipython",
    "version": 3
   },
   "file_extension": ".py",
   "mimetype": "text/x-python",
   "name": "python",
   "nbconvert_exporter": "python",
   "pygments_lexer": "ipython3",
   "version": "3.7.6"
  }
 },
 "nbformat": 4,
 "nbformat_minor": 2
}
