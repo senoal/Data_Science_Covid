{
 "cells": [
  {
   "cell_type": "markdown",
   "metadata": {},
   "source": [
    "#### Identitas:"
   ]
  },
  {
   "cell_type": "code",
   "execution_count": null,
   "metadata": {},
   "outputs": [],
   "source": [
    "print('NAMA:')\n",
    "print('<tuliskan nama lengkap Anda>')\n",
    "print('')\n",
    "print('NOMOR PESERTA:')\n",
    "print('<tuliskan nomor peserta Anda>')"
   ]
  },
  {
   "cell_type": "markdown",
   "metadata": {},
   "source": [
    "#### Lakukan 11 instruksi di bawah ini dengan menggunakan dataset berikut:\n",
    "Catatan: Anda bebas menambah/mengedit kode dalam melakukan instruksi."
   ]
  },
  {
   "cell_type": "code",
   "execution_count": null,
   "metadata": {},
   "outputs": [],
   "source": [
    "#Importing required modules\n",
    "import pandas as pd\n",
    "import numpy as np\n",
    "import matplotlib.pyplot as plt\n",
    "\n",
    "#Reading datasets\n",
    "#main dataset\n",
    "df = pd.read_csv('../data/covid_19_data.csv',sep=';')\n",
    "#region and climate dataset\n",
    "df_cat = pd.read_csv('../data/covid_19_data_cat.csv')\n",
    "\n",
    "df"
   ]
  },
  {
   "cell_type": "code",
   "execution_count": 111,
   "metadata": {},
   "outputs": [],
   "source": [
    "import pandas as pd\n",
    "import numpy as np\n",
    "import matplotlib.pyplot as plt"
   ]
  },
  {
   "cell_type": "code",
   "execution_count": 112,
   "metadata": {},
   "outputs": [
    {
     "data": {
      "text/html": [
       "<div>\n",
       "<style scoped>\n",
       "    .dataframe tbody tr th:only-of-type {\n",
       "        vertical-align: middle;\n",
       "    }\n",
       "\n",
       "    .dataframe tbody tr th {\n",
       "        vertical-align: top;\n",
       "    }\n",
       "\n",
       "    .dataframe thead th {\n",
       "        text-align: right;\n",
       "    }\n",
       "</style>\n",
       "<table border=\"1\" class=\"dataframe\">\n",
       "  <thead>\n",
       "    <tr style=\"text-align: right;\">\n",
       "      <th></th>\n",
       "      <th>country</th>\n",
       "      <th>province</th>\n",
       "      <th>date</th>\n",
       "      <th>confirmed</th>\n",
       "    </tr>\n",
       "  </thead>\n",
       "  <tbody>\n",
       "    <tr>\n",
       "      <th>0</th>\n",
       "      <td>Afghanistan</td>\n",
       "      <td>0</td>\n",
       "      <td>1/22/20</td>\n",
       "      <td>0</td>\n",
       "    </tr>\n",
       "    <tr>\n",
       "      <th>1</th>\n",
       "      <td>Albania</td>\n",
       "      <td>0</td>\n",
       "      <td>1/22/20</td>\n",
       "      <td>0</td>\n",
       "    </tr>\n",
       "    <tr>\n",
       "      <th>2</th>\n",
       "      <td>Algeria</td>\n",
       "      <td>0</td>\n",
       "      <td>1/22/20</td>\n",
       "      <td>0</td>\n",
       "    </tr>\n",
       "    <tr>\n",
       "      <th>3</th>\n",
       "      <td>Andorra</td>\n",
       "      <td>0</td>\n",
       "      <td>1/22/20</td>\n",
       "      <td>0</td>\n",
       "    </tr>\n",
       "    <tr>\n",
       "      <th>4</th>\n",
       "      <td>Angola</td>\n",
       "      <td>0</td>\n",
       "      <td>1/22/20</td>\n",
       "      <td>0</td>\n",
       "    </tr>\n",
       "  </tbody>\n",
       "</table>\n",
       "</div>"
      ],
      "text/plain": [
       "       country province     date  confirmed\n",
       "0  Afghanistan        0  1/22/20          0\n",
       "1      Albania        0  1/22/20          0\n",
       "2      Algeria        0  1/22/20          0\n",
       "3      Andorra        0  1/22/20          0\n",
       "4       Angola        0  1/22/20          0"
      ]
     },
     "execution_count": 112,
     "metadata": {},
     "output_type": "execute_result"
    }
   ],
   "source": [
    "df = pd.read_csv('confirmed.csv')\n",
    "df['Province/State'] = df['Province/State'].fillna(0)\n",
    "df_group = df.groupby(['Country/Region', 'Province/State'], as_index = False).sum()\n",
    "df_group = df_group.drop(['Lat','Long'], axis=1)\n",
    "df_group = df_group.rename(columns = {'Country/Region': 'country', 'Province/State': 'province'})\n",
    "df = pd.melt(df_group, id_vars = ['country','province'])\n",
    "df = df.rename(columns = {'variable': 'date', 'value': 'confirmed'})\n",
    "df.head()"
   ]
  },
  {
   "cell_type": "code",
   "execution_count": 113,
   "metadata": {},
   "outputs": [
    {
     "data": {
      "text/html": [
       "<div>\n",
       "<style scoped>\n",
       "    .dataframe tbody tr th:only-of-type {\n",
       "        vertical-align: middle;\n",
       "    }\n",
       "\n",
       "    .dataframe tbody tr th {\n",
       "        vertical-align: top;\n",
       "    }\n",
       "\n",
       "    .dataframe thead th {\n",
       "        text-align: right;\n",
       "    }\n",
       "</style>\n",
       "<table border=\"1\" class=\"dataframe\">\n",
       "  <thead>\n",
       "    <tr style=\"text-align: right;\">\n",
       "      <th></th>\n",
       "      <th>country</th>\n",
       "      <th>province</th>\n",
       "      <th>date</th>\n",
       "      <th>recovered</th>\n",
       "    </tr>\n",
       "  </thead>\n",
       "  <tbody>\n",
       "    <tr>\n",
       "      <th>0</th>\n",
       "      <td>Afghanistan</td>\n",
       "      <td>0</td>\n",
       "      <td>1/22/20</td>\n",
       "      <td>0</td>\n",
       "    </tr>\n",
       "    <tr>\n",
       "      <th>1</th>\n",
       "      <td>Albania</td>\n",
       "      <td>0</td>\n",
       "      <td>1/22/20</td>\n",
       "      <td>0</td>\n",
       "    </tr>\n",
       "    <tr>\n",
       "      <th>2</th>\n",
       "      <td>Algeria</td>\n",
       "      <td>0</td>\n",
       "      <td>1/22/20</td>\n",
       "      <td>0</td>\n",
       "    </tr>\n",
       "    <tr>\n",
       "      <th>3</th>\n",
       "      <td>Andorra</td>\n",
       "      <td>0</td>\n",
       "      <td>1/22/20</td>\n",
       "      <td>0</td>\n",
       "    </tr>\n",
       "    <tr>\n",
       "      <th>4</th>\n",
       "      <td>Angola</td>\n",
       "      <td>0</td>\n",
       "      <td>1/22/20</td>\n",
       "      <td>0</td>\n",
       "    </tr>\n",
       "  </tbody>\n",
       "</table>\n",
       "</div>"
      ],
      "text/plain": [
       "       country province     date  recovered\n",
       "0  Afghanistan        0  1/22/20          0\n",
       "1      Albania        0  1/22/20          0\n",
       "2      Algeria        0  1/22/20          0\n",
       "3      Andorra        0  1/22/20          0\n",
       "4       Angola        0  1/22/20          0"
      ]
     },
     "execution_count": 113,
     "metadata": {},
     "output_type": "execute_result"
    }
   ],
   "source": [
    "df2 = pd.read_csv('recovered.csv')\n",
    "df2['Province/State'] = df2['Province/State'].fillna(0)\n",
    "df2_group = df2.groupby(['Country/Region', 'Province/State'], as_index = False).sum()\n",
    "df2_group = df2_group.drop(['Lat','Long'], axis=1)\n",
    "df2_group = df2_group.rename(columns = {'Country/Region': 'country','Province/State': 'province'})\n",
    "df2 = pd.melt(df2_group, id_vars = ['country','province'])\n",
    "df2 = df2.rename(columns = {'variable': 'date', 'value': 'recovered'})\n",
    "df2.head()"
   ]
  },
  {
   "cell_type": "code",
   "execution_count": 114,
   "metadata": {},
   "outputs": [
    {
     "data": {
      "text/html": [
       "<div>\n",
       "<style scoped>\n",
       "    .dataframe tbody tr th:only-of-type {\n",
       "        vertical-align: middle;\n",
       "    }\n",
       "\n",
       "    .dataframe tbody tr th {\n",
       "        vertical-align: top;\n",
       "    }\n",
       "\n",
       "    .dataframe thead th {\n",
       "        text-align: right;\n",
       "    }\n",
       "</style>\n",
       "<table border=\"1\" class=\"dataframe\">\n",
       "  <thead>\n",
       "    <tr style=\"text-align: right;\">\n",
       "      <th></th>\n",
       "      <th>country</th>\n",
       "      <th>province</th>\n",
       "      <th>date</th>\n",
       "      <th>deaths</th>\n",
       "    </tr>\n",
       "  </thead>\n",
       "  <tbody>\n",
       "    <tr>\n",
       "      <th>0</th>\n",
       "      <td>Afghanistan</td>\n",
       "      <td>0</td>\n",
       "      <td>1/22/20</td>\n",
       "      <td>0</td>\n",
       "    </tr>\n",
       "    <tr>\n",
       "      <th>1</th>\n",
       "      <td>Albania</td>\n",
       "      <td>0</td>\n",
       "      <td>1/22/20</td>\n",
       "      <td>0</td>\n",
       "    </tr>\n",
       "    <tr>\n",
       "      <th>2</th>\n",
       "      <td>Algeria</td>\n",
       "      <td>0</td>\n",
       "      <td>1/22/20</td>\n",
       "      <td>0</td>\n",
       "    </tr>\n",
       "    <tr>\n",
       "      <th>3</th>\n",
       "      <td>Andorra</td>\n",
       "      <td>0</td>\n",
       "      <td>1/22/20</td>\n",
       "      <td>0</td>\n",
       "    </tr>\n",
       "    <tr>\n",
       "      <th>4</th>\n",
       "      <td>Angola</td>\n",
       "      <td>0</td>\n",
       "      <td>1/22/20</td>\n",
       "      <td>0</td>\n",
       "    </tr>\n",
       "  </tbody>\n",
       "</table>\n",
       "</div>"
      ],
      "text/plain": [
       "       country province     date  deaths\n",
       "0  Afghanistan        0  1/22/20       0\n",
       "1      Albania        0  1/22/20       0\n",
       "2      Algeria        0  1/22/20       0\n",
       "3      Andorra        0  1/22/20       0\n",
       "4       Angola        0  1/22/20       0"
      ]
     },
     "execution_count": 114,
     "metadata": {},
     "output_type": "execute_result"
    }
   ],
   "source": [
    "df3 = pd.read_csv('deaths.csv')\n",
    "df3['Province/State'] = df3['Province/State'].fillna(0)\n",
    "df3_group = df3.groupby(['Country/Region', 'Province/State'], as_index = False).sum()\n",
    "df3_group = df3_group.drop(['Lat','Long'], axis=1)\n",
    "df3_group = df3_group.rename(columns = {'Country/Region': 'country','Province/State': 'province'})\n",
    "df3 = pd.melt(df3_group, id_vars = ['country','province'])\n",
    "df3 = df3.rename(columns = {'variable': 'date', 'value': 'deaths'})\n",
    "df3.head()"
   ]
  },
  {
   "cell_type": "code",
   "execution_count": 115,
   "metadata": {},
   "outputs": [
    {
     "data": {
      "text/html": [
       "<div>\n",
       "<style scoped>\n",
       "    .dataframe tbody tr th:only-of-type {\n",
       "        vertical-align: middle;\n",
       "    }\n",
       "\n",
       "    .dataframe tbody tr th {\n",
       "        vertical-align: top;\n",
       "    }\n",
       "\n",
       "    .dataframe thead th {\n",
       "        text-align: right;\n",
       "    }\n",
       "</style>\n",
       "<table border=\"1\" class=\"dataframe\">\n",
       "  <thead>\n",
       "    <tr style=\"text-align: right;\">\n",
       "      <th></th>\n",
       "      <th>country</th>\n",
       "      <th>province</th>\n",
       "      <th>date</th>\n",
       "      <th>confirmed</th>\n",
       "      <th>recovered</th>\n",
       "      <th>deaths</th>\n",
       "    </tr>\n",
       "  </thead>\n",
       "  <tbody>\n",
       "    <tr>\n",
       "      <th>0</th>\n",
       "      <td>Afghanistan</td>\n",
       "      <td>0</td>\n",
       "      <td>2020-01-22</td>\n",
       "      <td>0.0</td>\n",
       "      <td>0.0</td>\n",
       "      <td>0.0</td>\n",
       "    </tr>\n",
       "    <tr>\n",
       "      <th>1</th>\n",
       "      <td>Albania</td>\n",
       "      <td>0</td>\n",
       "      <td>2020-01-22</td>\n",
       "      <td>0.0</td>\n",
       "      <td>0.0</td>\n",
       "      <td>0.0</td>\n",
       "    </tr>\n",
       "    <tr>\n",
       "      <th>2</th>\n",
       "      <td>Algeria</td>\n",
       "      <td>0</td>\n",
       "      <td>2020-01-22</td>\n",
       "      <td>0.0</td>\n",
       "      <td>0.0</td>\n",
       "      <td>0.0</td>\n",
       "    </tr>\n",
       "    <tr>\n",
       "      <th>3</th>\n",
       "      <td>Andorra</td>\n",
       "      <td>0</td>\n",
       "      <td>2020-01-22</td>\n",
       "      <td>0.0</td>\n",
       "      <td>0.0</td>\n",
       "      <td>0.0</td>\n",
       "    </tr>\n",
       "    <tr>\n",
       "      <th>4</th>\n",
       "      <td>Angola</td>\n",
       "      <td>0</td>\n",
       "      <td>2020-01-22</td>\n",
       "      <td>0.0</td>\n",
       "      <td>0.0</td>\n",
       "      <td>0.0</td>\n",
       "    </tr>\n",
       "  </tbody>\n",
       "</table>\n",
       "</div>"
      ],
      "text/plain": [
       "       country province       date  confirmed  recovered  deaths\n",
       "0  Afghanistan        0 2020-01-22        0.0        0.0     0.0\n",
       "1      Albania        0 2020-01-22        0.0        0.0     0.0\n",
       "2      Algeria        0 2020-01-22        0.0        0.0     0.0\n",
       "3      Andorra        0 2020-01-22        0.0        0.0     0.0\n",
       "4       Angola        0 2020-01-22        0.0        0.0     0.0"
      ]
     },
     "execution_count": 115,
     "metadata": {},
     "output_type": "execute_result"
    }
   ],
   "source": [
    "df4 = pd.merge(df, df2, on = ['country', 'province', 'date'], how = 'outer')\n",
    "df5 = pd.merge(df4, df3, on = ['country', 'province', 'date'], how = 'outer')\n",
    "df5['date'] = pd.to_datetime(df5['date'])\n",
    "df5.head()"
   ]
  },
  {
   "cell_type": "code",
   "execution_count": 116,
   "metadata": {},
   "outputs": [],
   "source": [
    "df5.to_csv('covid.csv')"
   ]
  },
  {
   "cell_type": "code",
   "execution_count": 117,
   "metadata": {
    "scrolled": true
   },
   "outputs": [
    {
     "data": {
      "text/html": [
       "<div>\n",
       "<style scoped>\n",
       "    .dataframe tbody tr th:only-of-type {\n",
       "        vertical-align: middle;\n",
       "    }\n",
       "\n",
       "    .dataframe tbody tr th {\n",
       "        vertical-align: top;\n",
       "    }\n",
       "\n",
       "    .dataframe thead th {\n",
       "        text-align: right;\n",
       "    }\n",
       "</style>\n",
       "<table border=\"1\" class=\"dataframe\">\n",
       "  <thead>\n",
       "    <tr style=\"text-align: right;\">\n",
       "      <th></th>\n",
       "      <th>country</th>\n",
       "      <th>confirmed</th>\n",
       "      <th>recovered</th>\n",
       "      <th>deaths</th>\n",
       "    </tr>\n",
       "    <tr>\n",
       "      <th>date</th>\n",
       "      <th></th>\n",
       "      <th></th>\n",
       "      <th></th>\n",
       "      <th></th>\n",
       "    </tr>\n",
       "  </thead>\n",
       "  <tbody>\n",
       "    <tr>\n",
       "      <th>2020-01-22</th>\n",
       "      <td>Afghanistan</td>\n",
       "      <td>0.0</td>\n",
       "      <td>0.0</td>\n",
       "      <td>0.0</td>\n",
       "    </tr>\n",
       "    <tr>\n",
       "      <th>2020-01-23</th>\n",
       "      <td>Afghanistan</td>\n",
       "      <td>0.0</td>\n",
       "      <td>0.0</td>\n",
       "      <td>0.0</td>\n",
       "    </tr>\n",
       "    <tr>\n",
       "      <th>2020-01-24</th>\n",
       "      <td>Afghanistan</td>\n",
       "      <td>0.0</td>\n",
       "      <td>0.0</td>\n",
       "      <td>0.0</td>\n",
       "    </tr>\n",
       "    <tr>\n",
       "      <th>2020-01-25</th>\n",
       "      <td>Afghanistan</td>\n",
       "      <td>0.0</td>\n",
       "      <td>0.0</td>\n",
       "      <td>0.0</td>\n",
       "    </tr>\n",
       "    <tr>\n",
       "      <th>2020-01-26</th>\n",
       "      <td>Afghanistan</td>\n",
       "      <td>0.0</td>\n",
       "      <td>0.0</td>\n",
       "      <td>0.0</td>\n",
       "    </tr>\n",
       "    <tr>\n",
       "      <th>...</th>\n",
       "      <td>...</td>\n",
       "      <td>...</td>\n",
       "      <td>...</td>\n",
       "      <td>...</td>\n",
       "    </tr>\n",
       "    <tr>\n",
       "      <th>2021-10-06</th>\n",
       "      <td>Zimbabwe</td>\n",
       "      <td>131434.0</td>\n",
       "      <td>0.0</td>\n",
       "      <td>4630.0</td>\n",
       "    </tr>\n",
       "    <tr>\n",
       "      <th>2021-10-07</th>\n",
       "      <td>Zimbabwe</td>\n",
       "      <td>131523.0</td>\n",
       "      <td>0.0</td>\n",
       "      <td>4631.0</td>\n",
       "    </tr>\n",
       "    <tr>\n",
       "      <th>2021-10-08</th>\n",
       "      <td>Zimbabwe</td>\n",
       "      <td>131705.0</td>\n",
       "      <td>0.0</td>\n",
       "      <td>4634.0</td>\n",
       "    </tr>\n",
       "    <tr>\n",
       "      <th>2021-10-09</th>\n",
       "      <td>Zimbabwe</td>\n",
       "      <td>131762.0</td>\n",
       "      <td>0.0</td>\n",
       "      <td>4636.0</td>\n",
       "    </tr>\n",
       "    <tr>\n",
       "      <th>2021-10-10</th>\n",
       "      <td>Zimbabwe</td>\n",
       "      <td>131796.0</td>\n",
       "      <td>0.0</td>\n",
       "      <td>4637.0</td>\n",
       "    </tr>\n",
       "  </tbody>\n",
       "</table>\n",
       "<p>122460 rows × 4 columns</p>\n",
       "</div>"
      ],
      "text/plain": [
       "                country  confirmed  recovered  deaths\n",
       "date                                                 \n",
       "2020-01-22  Afghanistan        0.0        0.0     0.0\n",
       "2020-01-23  Afghanistan        0.0        0.0     0.0\n",
       "2020-01-24  Afghanistan        0.0        0.0     0.0\n",
       "2020-01-25  Afghanistan        0.0        0.0     0.0\n",
       "2020-01-26  Afghanistan        0.0        0.0     0.0\n",
       "...                 ...        ...        ...     ...\n",
       "2021-10-06     Zimbabwe   131434.0        0.0  4630.0\n",
       "2021-10-07     Zimbabwe   131523.0        0.0  4631.0\n",
       "2021-10-08     Zimbabwe   131705.0        0.0  4634.0\n",
       "2021-10-09     Zimbabwe   131762.0        0.0  4636.0\n",
       "2021-10-10     Zimbabwe   131796.0        0.0  4637.0\n",
       "\n",
       "[122460 rows x 4 columns]"
      ]
     },
     "execution_count": 117,
     "metadata": {},
     "output_type": "execute_result"
    }
   ],
   "source": [
    "df6 = df5.groupby(['country','date']).sum()\n",
    "df6 = df6.reset_index(drop = False).set_index('date')\n",
    "df6"
   ]
  },
  {
   "cell_type": "code",
   "execution_count": 118,
   "metadata": {},
   "outputs": [
    {
     "name": "stdout",
     "output_type": "stream",
     "text": [
      "<class 'pandas.core.frame.DataFrame'>\n",
      "DatetimeIndex: 122460 entries, 2020-01-22 to 2021-10-10\n",
      "Data columns (total 4 columns):\n",
      " #   Column     Non-Null Count   Dtype  \n",
      "---  ------     --------------   -----  \n",
      " 0   country    122460 non-null  object \n",
      " 1   confirmed  122460 non-null  float64\n",
      " 2   recovered  122460 non-null  float64\n",
      " 3   deaths     122460 non-null  float64\n",
      "dtypes: float64(3), object(1)\n",
      "memory usage: 4.7+ MB\n"
     ]
    }
   ],
   "source": [
    "df6.info()"
   ]
  },
  {
   "cell_type": "markdown",
   "metadata": {},
   "source": [
    "#### 1. Dataframe 'df' terdiri dari (a) ... columns dan (b) ... rows. Dataframe 'df' mengandung data dari (c) ... 'country' yang berbeda. Dataframe 'df' mengandung data hasil observasi selama (d) .... hari terhitung sejak tanggal (e) ... sampai tanggal (f) ..."
   ]
  },
  {
   "cell_type": "markdown",
   "metadata": {},
   "source": [
    "(a)\n",
    "<br>\n",
    "(b)\n",
    "<br>\n",
    "(c)\n",
    "<br>\n",
    "(d)\n",
    "<br>\n",
    "(e)\n",
    "<br>\n",
    "(f)"
   ]
  },
  {
   "cell_type": "markdown",
   "metadata": {},
   "source": [
    "#### 2. Ubah beberapa data pada kolom 'country' agar tidak ada nama berbeda untuk negara yang sama dengan aturan:\n",
    "'original data','replace with this data':\n",
    "<br>\n",
    "\"('St. Martin',)\",'St. Martin'\n",
    "<br>\n",
    "' Azerbaijan','Azerbaijan'\n",
    "<br>\n",
    "'Cabo Verde','Cape Verde'\n",
    "<br>\n",
    "'Congo (Brazzaville)','Congo'\n",
    "<br>\n",
    "'Congo (Kinshasa)','Congo'\n",
    "<br>\n",
    "'North Ireland','Ireland'\n",
    "<br>\n",
    "'North Macedonia','Macedonia'\n",
    "<br>\n",
    "'occupied Palestinian territory','Palestine'\n",
    "<br>\n",
    "'Holy See','Vatican'\n",
    "<br>\n",
    "'Republic of Ireland','Ireland'\n",
    "<br>\n",
    "'The Bahamas','Bahamas'\n",
    "<br>\n",
    "'The Gambia','Gambia'\n",
    "<br>\n",
    "'Bahamas, The','Bahamas'\n",
    "<br>\n",
    "'Gambia, The','Gambia'\n",
    "<br>\n",
    "'Vatican City','Vatican'\n",
    "<br>\n",
    "'East Timor','Timor-Leste'\n",
    "<br>\n",
    "'West Bank and Gaza','Palestine'\n",
    "<br>\n",
    "'MS Zaandam','Others'\n",
    "<br>\n",
    "'Diamond Princess','Others'"
   ]
  },
  {
   "cell_type": "code",
   "execution_count": null,
   "metadata": {},
   "outputs": [],
   "source": []
  },
  {
   "cell_type": "markdown",
   "metadata": {},
   "source": [
    "#### 3. a. Beberapa 'country' pada dataframe 'df' data hariannya dibagi menjadi beberapa 'province'. Akumulasikan data 'confirmed','deaths', dan 'recovered' provinsi-provinsi ini sehingga data harian tiap negara hanya diwakili oleh 1 row dengan membuat dataframe baru 'df_new'.\n",
    "#### b. Tambahkan kolom 'region' dan 'climate' pada 'df_new' dan isi dengan region dan climate untuk tiap negara dengan mengacu pada 'df_cat'\n",
    "#### c. Filter 'df_new' hanya untuk tanggal 1 Maret 2020 - 13 Desember 2020. Drop semua row pada 'df_new' yang data 'confirmed'-nya di bawah 100. Drop semua data 'country' yang data 'region' atau 'climate'-nya NaN.\n",
    "#### d. Buat line plot berdasarkan dataframe 'df_new' dengan data 'date' sebagai x dan data 'confirmed' sebagai y, di mana tiap garis menggambarkan data 1 region.\n",
    "#### e. Buat line plot berdasarkan dataframe 'df_new' dengan data 'date' sebagai x dan data 'confirmed' sebagai y, di mana tiap garis menggambarkan data 1 kelompok iklim."
   ]
  },
  {
   "cell_type": "code",
   "execution_count": null,
   "metadata": {},
   "outputs": [],
   "source": [
    "\n"
   ]
  },
  {
   "cell_type": "markdown",
   "metadata": {},
   "source": [
    "#### 4.a. Buat dataframe 'df_last' yang hanya mengandung data tanggal terakhir dari 'df_new', di mana tiap row menunjukkan data 'confirmed', 'deaths', 'recovered', 'region', dan 'climate' untuk 1 negara.\n",
    "#### b. Berdasarkan df_last, identifikasi 10 negara dengan data 'deaths' tertinggi. Buat barplotnya.\n",
    "#### c. Buat beberapa kolom baru pada 'df_last': \n",
    "##### Kolom 'active_case' yang merupakan hasil perhitungan 'confirmed' dikurangi 'recovered' dan 'deaths'. \n",
    "##### Kolom 'active_case_%' yang merupakan hasil perhitungan 'active_case' dibagi 'confirmed' dikali 100. \n",
    "##### Kolom 'deaths_%' yang merupakan hasil perhitungan 'deaths' dibagi 'confirmed' dikali 100. \n",
    "##### Kolom 'recovered_%' yang merupakan hasil perhitungan 'recovered' dibagi 'confirmed' dikali 100.\n",
    "#### d. Buat scatter matrix berdassarkan 'df_last' untuk kolom 'active_case_%', 'deaths_%', dan 'recovered_%'  (bedakan warna scatter plot berdasarkan region).\n",
    "#### e. Lakukan hal yang sama dengan membedakan warna scatter plot berdasarkan iklim."
   ]
  },
  {
   "cell_type": "code",
   "execution_count": null,
   "metadata": {},
   "outputs": [],
   "source": []
  },
  {
   "cell_type": "markdown",
   "metadata": {},
   "source": [
    "#### 5. Dengan mengasumsi syarat melakukan tes ANOVA terpenuhi, lakukan ANOVA untuk menguji adanya hubungan antara region dan data 'active_case_%', 'deaths_%', dan 'recovered_%' (3 TES ANOVA YANG BERBEDA) pada 'df_last'. Tuliskan kesimpulan dari hasil tesnya."
   ]
  },
  {
   "cell_type": "code",
   "execution_count": null,
   "metadata": {},
   "outputs": [],
   "source": []
  },
  {
   "cell_type": "markdown",
   "metadata": {},
   "source": [
    "#### 6. Dengan mengasumsi syarat melakukan independent t-test terpenuhi, lakukan independent t-test untuk menguji adanya hubungan antara kelompok iklim dan data 'active_case_%', 'deaths_%', dan 'recovered_%' (3 INDEPENDENT T-TEST YANG BERBEDA) pada 'df_last'. Tuliskan kesimpulan dari hasil tesnya."
   ]
  },
  {
   "cell_type": "code",
   "execution_count": null,
   "metadata": {},
   "outputs": [],
   "source": []
  },
  {
   "cell_type": "markdown",
   "metadata": {},
   "source": [
    "#### 7. Buat kolom 'safety' pada 'df_last'. Apabila data suatu negara memenuhi 'active_case_%' < 10, 'deaths_%' < 5, 'recovered_%' > 95 labeli negara ini dengan 'safe' pada kolom 'safety'. Apabila tidak memenuhi kriteria, labeli dengan 'not_safe'. Berapa negara yang masuk kategori 'safe'? Berapa negara yang masuk kategori 'not_safe'?"
   ]
  },
  {
   "cell_type": "code",
   "execution_count": 128,
   "metadata": {},
   "outputs": [],
   "source": [
    "X_new=np.array([[1000,30,200],\n",
    "       [2000,40,400],\n",
    "       [50,1,2]])"
   ]
  },
  {
   "cell_type": "markdown",
   "metadata": {},
   "source": [
    "#### 8. a. Buat DataFrame baru dengan yang mengeksklusi data Indonesia, US, Brazil, New Zealand, Singapore dari 'df_last'. Buatlah classifier model untuk memprediksi kategori 'safety' pada DataFrame yang baru dibuat. Tampilkan nilai performance dari model yang Anda buat.\n",
    "\n",
    "#### b. Gunakan model classifier yang Anda buat untuk melabeli kategory 'safety' pada data Indonesia, US, Brazil, New Zealand, Singapore dari 'df_last'. Apa label 'safety' yang diprediksi oleh model Anda untuk masing-masing negara tersebut? Apakah hasil prediksi model Anda sesuai dengan kriteria safety pada nomor 8? Apabila tidak, faktor apa yang mempengaruhinya?"
   ]
  },
  {
   "cell_type": "code",
   "execution_count": 129,
   "metadata": {},
   "outputs": [],
   "source": [
    "X_new=np.array([[1000,30,200],\n",
    "       [2000,40,400],\n",
    "       [50,1,2]])"
   ]
  },
  {
   "cell_type": "markdown",
   "metadata": {},
   "source": [
    "#### 9. Buatlah model regresi untuk data 'active_case_%' di US pada 'df_last'. Plot model regresi ini bersama data aslinya dalam satu graph. Hitung nilai performance dari model regresi yang Anda buat."
   ]
  },
  {
   "cell_type": "code",
   "execution_count": null,
   "metadata": {},
   "outputs": [],
   "source": []
  },
  {
   "cell_type": "markdown",
   "metadata": {},
   "source": [
    "#### 10. Buatlah clustering model dengan jumlah cluster sebanyak 5 (cluster 0-4) untuk array 'Z'. Sebutkan prediksi nomor cluster berdasarkan data 'active_case_%', 'deaths_%', dan 'recovered_%' pada 'df_last' untuk negara:\n",
    "<br>\n",
    "a. Indonesia\n",
    "<br>\n",
    "b. Singapore\n",
    "<br>\n",
    "c. US\n",
    "<br>\n",
    "d. Italy\n",
    "<br>\n",
    "e. Iran"
   ]
  },
  {
   "cell_type": "code",
   "execution_count": 130,
   "metadata": {},
   "outputs": [
    {
     "ename": "NameError",
     "evalue": "name 'df_last' is not defined",
     "output_type": "error",
     "traceback": [
      "\u001b[0;31m---------------------------------------------------------------------------\u001b[0m",
      "\u001b[0;31mNameError\u001b[0m                                 Traceback (most recent call last)",
      "\u001b[0;32m<ipython-input-130-a4891c60d54b>\u001b[0m in \u001b[0;36m<module>\u001b[0;34m\u001b[0m\n\u001b[0;32m----> 1\u001b[0;31m \u001b[0mZ\u001b[0m\u001b[0;34m=\u001b[0m\u001b[0mdf_last\u001b[0m\u001b[0;34m.\u001b[0m\u001b[0mloc\u001b[0m\u001b[0;34m[\u001b[0m\u001b[0;34m:\u001b[0m\u001b[0;34m,\u001b[0m\u001b[0;34m[\u001b[0m\u001b[0;34m'active_case_%'\u001b[0m\u001b[0;34m,\u001b[0m \u001b[0;34m'deaths_%'\u001b[0m\u001b[0;34m,\u001b[0m \u001b[0;34m'recovered_%'\u001b[0m\u001b[0;34m]\u001b[0m\u001b[0;34m]\u001b[0m\u001b[0;34m.\u001b[0m\u001b[0mvalues\u001b[0m\u001b[0;34m\u001b[0m\u001b[0;34m\u001b[0m\u001b[0m\n\u001b[0m",
      "\u001b[0;31mNameError\u001b[0m: name 'df_last' is not defined"
     ]
    }
   ],
   "source": [
    "Z=df_last.loc[:,['active_case_%', 'deaths_%', 'recovered_%']].values"
   ]
  },
  {
   "cell_type": "code",
   "execution_count": null,
   "metadata": {},
   "outputs": [],
   "source": []
  }
 ],
 "metadata": {
  "kernelspec": {
   "display_name": "Python 3",
   "language": "python",
   "name": "python3"
  },
  "language_info": {
   "codemirror_mode": {
    "name": "ipython",
    "version": 3
   },
   "file_extension": ".py",
   "mimetype": "text/x-python",
   "name": "python",
   "nbconvert_exporter": "python",
   "pygments_lexer": "ipython3",
   "version": "3.7.6"
  }
 },
 "nbformat": 4,
 "nbformat_minor": 2
}
